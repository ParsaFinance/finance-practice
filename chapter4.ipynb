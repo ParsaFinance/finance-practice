{
 "cells": [
  {
   "metadata": {},
   "cell_type": "markdown",
   "source": [
    "# Portfolio Analysis Data Exporter\n",
    "\n",
    "This notebook fetches historical closing prices for a predefined list of stock tickers over the last two years. It then compiles the data into a single DataFrame and exports it to a formatted Excel file, ensuring the date column is wide enough for readability.\n",
    "\n",
    "**Key Steps:**\n",
    "1.  **Configuration**: Define the stock tickers and the time range for data analysis.\n",
    "2.  **Data Fetching**: Download historical closing prices from Yahoo Finance.\n",
    "3.  **Export to Excel**: Save the data into an `.xlsx` file with custom formatting."
   ],
   "id": "6774db0485a09952"
  },
  {
   "metadata": {
    "ExecuteTime": {
     "end_time": "2025-08-30T17:40:35.262358Z",
     "start_time": "2025-08-30T17:40:35.259730Z"
    }
   },
   "cell_type": "code",
   "source": [
    "# Import necessary libraries\n",
    "import yfinance as yf\n",
    "import pandas as pd\n",
    "from datetime import datetime, timedelta\n",
    "import os"
   ],
   "id": "442dff24339a4df7",
   "outputs": [],
   "execution_count": 38
  },
  {
   "metadata": {},
   "cell_type": "markdown",
   "source": [
    "## Step 1: Define Tickers and Time Range\n",
    "\n",
    "Here, we specify the list of stock tickers we want to analyze and set the time period for our data. We will fetch data for the last two years from today's date."
   ],
   "id": "28d7b9d53c9048ea"
  },
  {
   "metadata": {
    "ExecuteTime": {
     "end_time": "2025-08-30T17:40:35.272025Z",
     "start_time": "2025-08-30T17:40:35.269361Z"
    }
   },
   "cell_type": "code",
   "source": [
    "tickers = ['SPY', 'BND', 'GLD', 'QQQ', 'VTI'] # list of tickers\n",
    "end_date = datetime.today() # current date\n",
    "start_date = end_date - timedelta(days=2*365) # 2 years of data\n"
   ],
   "id": "5e8a8bc212dc5fec",
   "outputs": [],
   "execution_count": 39
  },
  {
   "metadata": {},
   "cell_type": "markdown",
   "source": [
    "## Step 2: Download Historical Closing Prices\n",
    "\n",
    "Using the `yfinance` library, we download the historical data for all specified tickers in a single, efficient API call. We then select only the `Close` prices, as they are the most relevant for our return analysis."
   ],
   "id": "b2531a38441ea62f"
  },
  {
   "metadata": {
    "ExecuteTime": {
     "end_time": "2025-08-30T17:40:35.546467Z",
     "start_time": "2025-08-30T17:40:35.279472Z"
    }
   },
   "cell_type": "code",
   "source": [
    "# Download historical 'Close' prices for all tickers in a single request\n",
    "close_df = yf.download(tickers, start=start_date, end=end_date)['Close'] # 'Close' column contains the closing prices\n",
    "print(close_df)\n",
    "## Alternatively, you can download 'Close' prices individually for each ticker separately, but this method may be slower for large number of tickers and I don't recommend it'\n",
    "\n",
    "##for ticker in tickers:\n",
    "#    data = yf.download(ticker, start=start_date, end=end_date)['Close']\n",
    "#    close_df[ticker] = data\n",
    "#print(close_df)"
   ],
   "id": "fa7622ade801e700",
   "outputs": [
    {
     "name": "stderr",
     "output_type": "stream",
     "text": [
      "C:\\Users\\parsa\\AppData\\Local\\Temp\\ipykernel_19128\\882796252.py:2: FutureWarning: YF.download() has changed argument auto_adjust default to True\n",
      "  close_df = yf.download(tickers, start=start_date, end=end_date)['Close'] # 'Close' column contains the closing prices\n",
      "[*********************100%***********************]  5 of 5 completed"
     ]
    },
    {
     "name": "stdout",
     "output_type": "stream",
     "text": [
      "Ticker            BND         GLD         QQQ         SPY         VTI\n",
      "Date                                                                 \n",
      "2023-08-31  66.701553  180.020004  373.292511  438.673920  217.798782\n",
      "2023-09-01  66.380875  180.110001  372.897430  439.492188  218.518494\n",
      "2023-09-05  66.017326  178.639999  373.371552  437.592682  217.215256\n",
      "2023-09-06  65.942764  177.830002  370.082855  434.651001  215.853638\n",
      "2023-09-07  66.166519  178.020004  367.436188  433.316528  215.114456\n",
      "...               ...         ...         ...         ...         ...\n",
      "2025-08-25  73.639999  309.829987  570.320007  642.469971  316.649994\n",
      "2025-08-26  73.730003  312.079987  572.609985  645.159973  318.089996\n",
      "2025-08-27  73.800003  312.709991  573.489990  646.630005  318.940002\n",
      "2025-08-28  73.889999  315.029999  577.080017  648.919983  320.100006\n",
      "2025-08-29  73.800003  318.070007  570.400024  645.049988  318.200012\n",
      "\n",
      "[501 rows x 5 columns]\n"
     ]
    },
    {
     "name": "stderr",
     "output_type": "stream",
     "text": [
      "\n"
     ]
    }
   ],
   "execution_count": 40
  },
  {
   "metadata": {},
   "cell_type": "markdown",
   "source": [
    "## Step 3: Set Output Folder and Export Data to Excel\n",
    "\n",
    "Finally, we define the output path and save our DataFrame to an Excel file. We use the `XlsxWriter` engine to gain more control over the output format, allowing us to adjust the width of the date column for better visibility."
   ],
   "id": "183c5dd0ac5a8e1b"
  },
  {
   "metadata": {
    "ExecuteTime": {
     "end_time": "2025-08-30T17:40:35.598604Z",
     "start_time": "2025-08-30T17:40:35.552531Z"
    }
   },
   "cell_type": "code",
   "source": [
    "output_folder = r\"C:\\Users\\parsa\\OneDrive\\Documents\" # Replace with your desired output folder\n",
    "output_file = os.path.join(output_folder, 'portfolio_returns1.xlsx')\n",
    "\n",
    "# Use XlsxWriter to control Excel formatting\n",
    "with pd.ExcelWriter(output_file, engine='xlsxwriter') as writer:\n",
    "    # Write the dataframe to the Excel file\n",
    "    close_df.to_excel(writer, sheet_name='Portfolio')\n",
    "\n",
    "    # Get the worksheet object\n",
    "    worksheet = writer.sheets['Portfolio']\n",
    "\n",
    "    # Set the width of the first column (the Date column, 'A') to 15\n",
    "    worksheet.set_column('A:A', 15)"
   ],
   "id": "23675453e94f37c1",
   "outputs": [],
   "execution_count": 41
  }
 ],
 "metadata": {
  "kernelspec": {
   "display_name": "Python 3",
   "language": "python",
   "name": "python3"
  },
  "language_info": {
   "codemirror_mode": {
    "name": "ipython",
    "version": 2
   },
   "file_extension": ".py",
   "mimetype": "text/x-python",
   "name": "python",
   "nbconvert_exporter": "python",
   "pygments_lexer": "ipython2",
   "version": "2.7.6"
  }
 },
 "nbformat": 4,
 "nbformat_minor": 5
}
