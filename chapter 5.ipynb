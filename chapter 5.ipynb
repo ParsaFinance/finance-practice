{
 "cells": [
  {
   "metadata": {},
   "cell_type": "markdown",
   "source": [
    "# Portfolio Optimization: Equal-Weight vs Minimum-Variance\n",
    "\n",
    "**Goal:**\n",
    "- Download 2 years of historical data for multiple ETFs (SPY, QQQ, BND, GLD, VTI).\n",
    "- Compute daily returns, annualized mean returns, volatilities, covariance, and correlation.\n",
    "- Construct two portfolios:\n",
    "  1. Equal-Weight (EW)\n",
    "  2. Minimum-Variance (MV) using the closed-form solution\n",
    "- Compare performance (Annual Return, Volatility, Sharpe Ratio).\n",
    "- Plot equity curves and export all results to Excel (multi-sheet).\n",
    "\n",
    "\n"
   ],
   "id": "7df8d977f15d87eb"
  },
  {
   "cell_type": "code",
   "id": "initial_id",
   "metadata": {
    "collapsed": true,
    "ExecuteTime": {
     "end_time": "2025-08-31T20:57:06.027203Z",
     "start_time": "2025-08-31T20:57:06.024085Z"
    }
   },
   "source": [
    "# Install if not present:\n",
    "# !pip install yfinance pandas numpy matplotlib xlsxwriter\n",
    "\n",
    "import os\n",
    "from datetime import datetime, timedelta\n",
    "import numpy as np\n",
    "import pandas as pd\n",
    "import yfinance as yf\n",
    "import matplotlib.pyplot as plt\n",
    "\n",
    "plt.rcParams['figure.figsize'] = (10,4)\n",
    "\n",
    "# Parameters\n",
    "tickers = ['SPY', 'BND', 'GLD', 'QQQ', 'VTI']\n",
    "end_date = datetime.today()\n",
    "start_date = end_date - timedelta(days=2*365)\n",
    "\n",
    "# Output file\n",
    "output_folder = r\"C:\\Users\\parsa\\OneDrive\\Documents\"  # Change this path\n",
    "output_file = os.path.join(output_folder, 'portfolio_analysis.xlsx')\n"
   ],
   "outputs": [],
   "execution_count": 10
  },
  {
   "metadata": {
    "ExecuteTime": {
     "end_time": "2025-08-31T20:57:06.340756Z",
     "start_time": "2025-08-31T20:57:06.063711Z"
    }
   },
   "cell_type": "code",
   "source": [
    "# Download adjusted closing prices for all tickers\n",
    "close_df = yf.download(tickers, start=start_date, end=end_date, progress=False)['Close']\n",
    "\n",
    "# Ensure DataFrame structure\n",
    "if isinstance(close_df, pd.Series):\n",
    "    close_df = close_df.to_frame(name=tickers[0])\n",
    "\n",
    "close_df = close_df.dropna(how='all')\n",
    "close_df.head()\n"
   ],
   "id": "ce6d94544d4c207",
   "outputs": [
    {
     "name": "stderr",
     "output_type": "stream",
     "text": [
      "C:\\Users\\parsa\\AppData\\Local\\Temp\\ipykernel_3076\\4120696744.py:2: FutureWarning: YF.download() has changed argument auto_adjust default to True\n",
      "  close_df = yf.download(tickers, start=start_date, end=end_date, progress=False)['Close']\n"
     ]
    },
    {
     "data": {
      "text/plain": [
       "Ticker            BND         GLD         QQQ         SPY         VTI\n",
       "Date                                                                 \n",
       "2023-09-05  66.017342  178.639999  373.371460  437.592682  217.215225\n",
       "2023-09-06  65.942764  177.830002  370.082916  434.651001  215.853622\n",
       "2023-09-07  66.166512  178.020004  367.436157  433.316528  215.114441\n",
       "2023-09-08  66.185143  178.080002  367.949707  433.969147  215.347885\n",
       "2023-09-11  66.082588  178.410004  372.285187  436.823212  216.699783"
      ],
      "text/html": [
       "<div>\n",
       "<style scoped>\n",
       "    .dataframe tbody tr th:only-of-type {\n",
       "        vertical-align: middle;\n",
       "    }\n",
       "\n",
       "    .dataframe tbody tr th {\n",
       "        vertical-align: top;\n",
       "    }\n",
       "\n",
       "    .dataframe thead th {\n",
       "        text-align: right;\n",
       "    }\n",
       "</style>\n",
       "<table border=\"1\" class=\"dataframe\">\n",
       "  <thead>\n",
       "    <tr style=\"text-align: right;\">\n",
       "      <th>Ticker</th>\n",
       "      <th>BND</th>\n",
       "      <th>GLD</th>\n",
       "      <th>QQQ</th>\n",
       "      <th>SPY</th>\n",
       "      <th>VTI</th>\n",
       "    </tr>\n",
       "    <tr>\n",
       "      <th>Date</th>\n",
       "      <th></th>\n",
       "      <th></th>\n",
       "      <th></th>\n",
       "      <th></th>\n",
       "      <th></th>\n",
       "    </tr>\n",
       "  </thead>\n",
       "  <tbody>\n",
       "    <tr>\n",
       "      <th>2023-09-05</th>\n",
       "      <td>66.017342</td>\n",
       "      <td>178.639999</td>\n",
       "      <td>373.371460</td>\n",
       "      <td>437.592682</td>\n",
       "      <td>217.215225</td>\n",
       "    </tr>\n",
       "    <tr>\n",
       "      <th>2023-09-06</th>\n",
       "      <td>65.942764</td>\n",
       "      <td>177.830002</td>\n",
       "      <td>370.082916</td>\n",
       "      <td>434.651001</td>\n",
       "      <td>215.853622</td>\n",
       "    </tr>\n",
       "    <tr>\n",
       "      <th>2023-09-07</th>\n",
       "      <td>66.166512</td>\n",
       "      <td>178.020004</td>\n",
       "      <td>367.436157</td>\n",
       "      <td>433.316528</td>\n",
       "      <td>215.114441</td>\n",
       "    </tr>\n",
       "    <tr>\n",
       "      <th>2023-09-08</th>\n",
       "      <td>66.185143</td>\n",
       "      <td>178.080002</td>\n",
       "      <td>367.949707</td>\n",
       "      <td>433.969147</td>\n",
       "      <td>215.347885</td>\n",
       "    </tr>\n",
       "    <tr>\n",
       "      <th>2023-09-11</th>\n",
       "      <td>66.082588</td>\n",
       "      <td>178.410004</td>\n",
       "      <td>372.285187</td>\n",
       "      <td>436.823212</td>\n",
       "      <td>216.699783</td>\n",
       "    </tr>\n",
       "  </tbody>\n",
       "</table>\n",
       "</div>"
      ]
     },
     "execution_count": 11,
     "metadata": {},
     "output_type": "execute_result"
    }
   ],
   "execution_count": 11
  },
  {
   "metadata": {
    "ExecuteTime": {
     "end_time": "2025-08-31T20:57:06.388931Z",
     "start_time": "2025-08-31T20:57:06.380242Z"
    }
   },
   "cell_type": "code",
   "source": [
    "# Daily returns\n",
    "ret = close_df.pct_change().dropna()\n",
    "\n",
    "# Annualized mean and volatility (252 trading days)\n",
    "mu_annual = ret.mean()*252\n",
    "vol_annual = ret.std()*np.sqrt(252)\n",
    "\n",
    "stats = pd.DataFrame({\n",
    "    'Annual Mean Return': mu_annual,\n",
    "    'Annual Volatility': vol_annual\n",
    "}).sort_values('Annual Volatility')\n",
    "\n",
    "stats\n"
   ],
   "id": "86d847bd93253aa9",
   "outputs": [
    {
     "data": {
      "text/plain": [
       "        Annual Mean Return  Annual Volatility\n",
       "Ticker                                       \n",
       "BND               0.058023           0.057072\n",
       "GLD               0.304794           0.159588\n",
       "SPY               0.209894           0.164853\n",
       "VTI               0.206963           0.166168\n",
       "QQQ               0.236269           0.209461"
      ],
      "text/html": [
       "<div>\n",
       "<style scoped>\n",
       "    .dataframe tbody tr th:only-of-type {\n",
       "        vertical-align: middle;\n",
       "    }\n",
       "\n",
       "    .dataframe tbody tr th {\n",
       "        vertical-align: top;\n",
       "    }\n",
       "\n",
       "    .dataframe thead th {\n",
       "        text-align: right;\n",
       "    }\n",
       "</style>\n",
       "<table border=\"1\" class=\"dataframe\">\n",
       "  <thead>\n",
       "    <tr style=\"text-align: right;\">\n",
       "      <th></th>\n",
       "      <th>Annual Mean Return</th>\n",
       "      <th>Annual Volatility</th>\n",
       "    </tr>\n",
       "    <tr>\n",
       "      <th>Ticker</th>\n",
       "      <th></th>\n",
       "      <th></th>\n",
       "    </tr>\n",
       "  </thead>\n",
       "  <tbody>\n",
       "    <tr>\n",
       "      <th>BND</th>\n",
       "      <td>0.058023</td>\n",
       "      <td>0.057072</td>\n",
       "    </tr>\n",
       "    <tr>\n",
       "      <th>GLD</th>\n",
       "      <td>0.304794</td>\n",
       "      <td>0.159588</td>\n",
       "    </tr>\n",
       "    <tr>\n",
       "      <th>SPY</th>\n",
       "      <td>0.209894</td>\n",
       "      <td>0.164853</td>\n",
       "    </tr>\n",
       "    <tr>\n",
       "      <th>VTI</th>\n",
       "      <td>0.206963</td>\n",
       "      <td>0.166168</td>\n",
       "    </tr>\n",
       "    <tr>\n",
       "      <th>QQQ</th>\n",
       "      <td>0.236269</td>\n",
       "      <td>0.209461</td>\n",
       "    </tr>\n",
       "  </tbody>\n",
       "</table>\n",
       "</div>"
      ]
     },
     "execution_count": 12,
     "metadata": {},
     "output_type": "execute_result"
    }
   ],
   "execution_count": 12
  },
  {
   "metadata": {
    "ExecuteTime": {
     "end_time": "2025-08-31T20:57:06.544596Z",
     "start_time": "2025-08-31T20:57:06.538811Z"
    }
   },
   "cell_type": "code",
   "source": [
    "# Annualized covariance & correlation\n",
    "cov_annual = ret.cov()*252\n",
    "corr = ret.corr()\n",
    "\n",
    "cov_annual, corr\n"
   ],
   "id": "6169c0cfccde0090",
   "outputs": [
    {
     "data": {
      "text/plain": [
       "(Ticker       BND       GLD       QQQ       SPY       VTI\n",
       " Ticker                                                  \n",
       " BND     0.003257  0.002238  0.001205  0.001426  0.001563\n",
       " GLD     0.002238  0.025468  0.002650  0.002526  0.002670\n",
       " QQQ     0.001205  0.002650  0.043874  0.033113  0.033095\n",
       " SPY     0.001426  0.002526  0.033113  0.027176  0.027295\n",
       " VTI     0.001563  0.002670  0.033095  0.027295  0.027612,\n",
       " Ticker       BND       GLD       QQQ       SPY       VTI\n",
       " Ticker                                                  \n",
       " BND     1.000000  0.245694  0.100814  0.151518  0.164792\n",
       " GLD     0.245694  1.000000  0.079280  0.096005  0.100669\n",
       " QQQ     0.100814  0.079280  1.000000  0.958949  0.950859\n",
       " SPY     0.151518  0.096005  0.958949  1.000000  0.996420\n",
       " VTI     0.164792  0.100669  0.950859  0.996420  1.000000)"
      ]
     },
     "execution_count": 13,
     "metadata": {},
     "output_type": "execute_result"
    }
   ],
   "execution_count": 13
  },
  {
   "metadata": {
    "ExecuteTime": {
     "end_time": "2025-08-31T20:57:06.622194Z",
     "start_time": "2025-08-31T20:57:06.616232Z"
    }
   },
   "cell_type": "code",
   "source": [
    "n = len(tickers)\n",
    "ones = np.ones(n)\n",
    "\n",
    "# Equal-Weight\n",
    "w_eq = ones / n\n",
    "\n",
    "# Minimum-Variance (closed-form solution)\n",
    "# w* = (Σ^-1 1) / (1^T Σ^-1 1)\n",
    "Sigma = cov_annual.values\n",
    "Sigma_inv = np.linalg.pinv(Sigma)  # pseudo-inverse (safe)\n",
    "w_mv = (Sigma_inv @ ones) / (ones.T @ Sigma_inv @ ones)\n",
    "\n",
    "pd.DataFrame({'Equal-Weight': w_eq, 'Min-Var': w_mv}, index=tickers)\n"
   ],
   "id": "1663022aac6da9ed",
   "outputs": [
    {
     "data": {
      "text/plain": [
       "     Equal-Weight   Min-Var\n",
       "SPY           0.2  0.882359\n",
       "BND           0.2  0.036289\n",
       "GLD           0.2 -0.081702\n",
       "QQQ           0.2  0.906442\n",
       "VTI           0.2 -0.743388"
      ],
      "text/html": [
       "<div>\n",
       "<style scoped>\n",
       "    .dataframe tbody tr th:only-of-type {\n",
       "        vertical-align: middle;\n",
       "    }\n",
       "\n",
       "    .dataframe tbody tr th {\n",
       "        vertical-align: top;\n",
       "    }\n",
       "\n",
       "    .dataframe thead th {\n",
       "        text-align: right;\n",
       "    }\n",
       "</style>\n",
       "<table border=\"1\" class=\"dataframe\">\n",
       "  <thead>\n",
       "    <tr style=\"text-align: right;\">\n",
       "      <th></th>\n",
       "      <th>Equal-Weight</th>\n",
       "      <th>Min-Var</th>\n",
       "    </tr>\n",
       "  </thead>\n",
       "  <tbody>\n",
       "    <tr>\n",
       "      <th>SPY</th>\n",
       "      <td>0.2</td>\n",
       "      <td>0.882359</td>\n",
       "    </tr>\n",
       "    <tr>\n",
       "      <th>BND</th>\n",
       "      <td>0.2</td>\n",
       "      <td>0.036289</td>\n",
       "    </tr>\n",
       "    <tr>\n",
       "      <th>GLD</th>\n",
       "      <td>0.2</td>\n",
       "      <td>-0.081702</td>\n",
       "    </tr>\n",
       "    <tr>\n",
       "      <th>QQQ</th>\n",
       "      <td>0.2</td>\n",
       "      <td>0.906442</td>\n",
       "    </tr>\n",
       "    <tr>\n",
       "      <th>VTI</th>\n",
       "      <td>0.2</td>\n",
       "      <td>-0.743388</td>\n",
       "    </tr>\n",
       "  </tbody>\n",
       "</table>\n",
       "</div>"
      ]
     },
     "execution_count": 14,
     "metadata": {},
     "output_type": "execute_result"
    }
   ],
   "execution_count": 14
  },
  {
   "metadata": {
    "ExecuteTime": {
     "end_time": "2025-08-31T20:57:06.678616Z",
     "start_time": "2025-08-31T20:57:06.670974Z"
    }
   },
   "cell_type": "code",
   "source": [
    "def portfolio_stats(weights, mu, Sigma):\n",
    "    \"\"\"Compute annual return, volatility, and Sharpe ratio for given weights.\"\"\"\n",
    "    w = np.asarray(weights)\n",
    "    r = float(w @ mu.values)\n",
    "    v = float(np.sqrt(w @ Sigma.values @ w))\n",
    "    sharpe = r / v if v>0 else np.nan\n",
    "    return r, v, sharpe\n",
    "\n",
    "perf_eq = portfolio_stats(w_eq, mu_annual, cov_annual)\n",
    "perf_mv = portfolio_stats(w_mv, mu_annual, cov_annual)\n",
    "\n",
    "perf_df = pd.DataFrame(\n",
    "    [perf_eq, perf_mv],\n",
    "    columns=['Annual Return','Annual Volatility','Sharpe'],\n",
    "    index=['Equal-Weight','Min-Var']\n",
    ").applymap(lambda x: round(x,4))\n",
    "\n",
    "perf_df\n"
   ],
   "id": "b84aed418f26a50",
   "outputs": [
    {
     "name": "stderr",
     "output_type": "stream",
     "text": [
      "C:\\Users\\parsa\\AppData\\Local\\Temp\\ipykernel_3076\\2122883093.py:16: FutureWarning: DataFrame.applymap has been deprecated. Use DataFrame.map instead.\n",
      "  ).applymap(lambda x: round(x,4))\n"
     ]
    },
    {
     "data": {
      "text/plain": [
       "              Annual Return  Annual Volatility  Sharpe\n",
       "Equal-Weight         0.2032             0.1171  1.7348\n",
       "Min-Var              0.0794             0.0547  1.4520"
      ],
      "text/html": [
       "<div>\n",
       "<style scoped>\n",
       "    .dataframe tbody tr th:only-of-type {\n",
       "        vertical-align: middle;\n",
       "    }\n",
       "\n",
       "    .dataframe tbody tr th {\n",
       "        vertical-align: top;\n",
       "    }\n",
       "\n",
       "    .dataframe thead th {\n",
       "        text-align: right;\n",
       "    }\n",
       "</style>\n",
       "<table border=\"1\" class=\"dataframe\">\n",
       "  <thead>\n",
       "    <tr style=\"text-align: right;\">\n",
       "      <th></th>\n",
       "      <th>Annual Return</th>\n",
       "      <th>Annual Volatility</th>\n",
       "      <th>Sharpe</th>\n",
       "    </tr>\n",
       "  </thead>\n",
       "  <tbody>\n",
       "    <tr>\n",
       "      <th>Equal-Weight</th>\n",
       "      <td>0.2032</td>\n",
       "      <td>0.1171</td>\n",
       "      <td>1.7348</td>\n",
       "    </tr>\n",
       "    <tr>\n",
       "      <th>Min-Var</th>\n",
       "      <td>0.0794</td>\n",
       "      <td>0.0547</td>\n",
       "      <td>1.4520</td>\n",
       "    </tr>\n",
       "  </tbody>\n",
       "</table>\n",
       "</div>"
      ]
     },
     "execution_count": 15,
     "metadata": {},
     "output_type": "execute_result"
    }
   ],
   "execution_count": 15
  },
  {
   "metadata": {
    "ExecuteTime": {
     "end_time": "2025-08-31T20:57:23.952625Z",
     "start_time": "2025-08-31T20:57:23.804427Z"
    }
   },
   "cell_type": "code",
   "source": [
    "# Daily portfolio returns\n",
    "ret_eq = (ret @ w_eq).rename('EW')\n",
    "ret_mv = (ret @ w_mv).rename('MV')\n",
    "\n",
    "# Equity curves (start=1.0)\n",
    "equity = pd.DataFrame({\n",
    "    'EW': (1+ret_eq).cumprod(),\n",
    "    'MV': (1+ret_mv).cumprod()\n",
    "})\n",
    "\n",
    "equity.plot(title='Equity Curves: Equal-Weight vs Min-Var')\n",
    "plt.ylabel('Equity (Start=1.0)')\n",
    "plt.show()\n"
   ],
   "id": "7ec90dd3c3a18453",
   "outputs": [
    {
     "data": {
      "text/plain": [
       "<Figure size 1000x400 with 1 Axes>"
      ],
      "image/png": "[encoded data removed]"
     },
     "metadata": {},
     "output_type": "display_data"
    }
   ],
   "execution_count": 16
  },
  {
   "metadata": {
    "ExecuteTime": {
     "end_time": "2025-08-31T20:57:32.902007Z",
     "start_time": "2025-08-31T20:57:32.713371Z"
    }
   },
   "cell_type": "code",
   "source": [
    "with pd.ExcelWriter(output_file, engine='xlsxwriter') as writer:\n",
    "    close_df.to_excel(writer, sheet_name='Close')\n",
    "    ret.to_excel(writer, sheet_name='Returns')\n",
    "    stats.to_excel(writer, sheet_name='Asset_Stats')\n",
    "    cov_annual.to_excel(writer, sheet_name='Cov_Annual')\n",
    "    corr.to_excel(writer, sheet_name='Correlation')\n",
    "    pd.DataFrame({'Equal-Weight': w_eq, 'Min-Var': w_mv}, index=tickers).to_excel(writer, sheet_name='Weights')\n",
    "    perf_df.to_excel(writer, sheet_name='Portfolio_Perf')\n",
    "\n",
    "    # Format Performance sheet\n",
    "    ws = writer.sheets['Portfolio_Perf']\n",
    "    ws.set_column('A:A', 18)\n",
    "    ws.set_column('B:D', 18)\n",
    "\n",
    "print(f\"Results exported to: {output_file}\")\n"
   ],
   "id": "e3b223b7d5b293f6",
   "outputs": [
    {
     "name": "stdout",
     "output_type": "stream",
     "text": [
      "Results exported to: C:\\Users\\parsa\\OneDrive\\Documents\\portfolio_analysis.xlsx\n"
     ]
    }
   ],
   "execution_count": 17
  }
 ],
 "metadata": {
  "kernelspec": {
   "display_name": "Python 3",
   "language": "python",
   "name": "python3"
  },
  "language_info": {
   "codemirror_mode": {
    "name": "ipython",
    "version": 2
   },
   "file_extension": ".py",
   "mimetype": "text/x-python",
   "name": "python",
   "nbconvert_exporter": "python",
   "pygments_lexer": "ipython2",
   "version": "2.7.6"
  }
 },
 "nbformat": 4,
 "nbformat_minor": 5
}
