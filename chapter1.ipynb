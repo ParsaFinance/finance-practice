{
 "cells": [
  {
   "metadata": {},
   "cell_type": "markdown",
   "source": [
    "# 📝 Practical Exercise – Apple Stocks Portfolio\n",
    "\n",
    "**Scenario:**\n",
    "John is an investor with Apple stocks.\n",
    "- Each Apple stock is currently valued at **$135**.\n",
    "- He  bought **20 stocks at $60 each**, then acquired an additional **10 at $145 each**.\n",
    "- He  sold **8  stocks at $120 each**.\n",
    "\n",
    "Now, John is evaluating the financial merits of selling his remaining stocks and is curious about the potential tax implications.\n",
    "\n",
    "---\n",
    "\n",
    "### Tasks:\n",
    "1. Calculate and display the total value of the current Apple stocks in John’s portfolio.\n",
    "2. Calculate and display the average purchase price of John’s Apple stocks.\n",
    "3. Calculate and display the potential total capital gain if John sells all his Apple stocks now.\n",
    "4. John holds dual citizenship in **France** and **Belgium**.\n",
    "   - In France: capital gains tax = **30%**.\n",
    "   - In Belgium: capital gains are **tax-exempt up to $500**, then **40% applies** beyond this threshold.\n",
    "\n",
    "   Calculate and display the taxes John would incur on his capital gains in France and Belgium.\n"
   ],
   "id": "80b7450711bab48"
  },
  {
   "cell_type": "code",
   "id": "initial_id",
   "metadata": {
    "collapsed": true,
    "ExecuteTime": {
     "end_time": "2025-08-27T19:17:45.959994Z",
     "start_time": "2025-08-27T19:17:45.957185Z"
    }
   },
   "source": [
    "stock_value_now = 135  # current stock value\n",
    "stocks_bought_first = 20\n",
    "price_first = 60  # price at which the first set of stocks were bought\n",
    "stocks_bought_second = 10\n",
    "price_second = 145  # price at which the second set of stocks were bought\n",
    "stocks_sold = 8\n",
    "price_sold = 120  # price at which stocks were sold\n",
    "France_tax_rate, Belgium_tax_rate = 0.30 , 0.40\n",
    "tax_exempt_threshold = 500"
   ],
   "outputs": [],
   "execution_count": 6
  },
  {
   "metadata": {
    "ExecuteTime": {
     "end_time": "2025-08-27T19:17:45.971279Z",
     "start_time": "2025-08-27T19:17:45.967731Z"
    }
   },
   "cell_type": "code",
   "source": [
    "#Calculate and display the total value of the current Apple stocks in John’s portfolio\n",
    "total_stock = stocks_bought_first + stocks_bought_second - stocks_sold\n",
    "total_value = total_stock * stock_value_now\n",
    "print(f\"Total value of the current Apple stocks in John's portfolio: ${total_value:.2f}\")"
   ],
   "id": "d7ba86e93666d647",
   "outputs": [
    {
     "name": "stdout",
     "output_type": "stream",
     "text": [
      "Total value of the current Apple stocks in John's portfolio: $2970.00\n"
     ]
    }
   ],
   "execution_count": 7
  },
  {
   "metadata": {
    "ExecuteTime": {
     "end_time": "2025-08-27T19:17:45.989374Z",
     "start_time": "2025-08-27T19:17:45.985829Z"
    }
   },
   "cell_type": "code",
   "source": [
    "#Calculate and display the average purchase price of John’s Apple stocks\n",
    "average_purchase_price = (stocks_bought_first * price_first) + (stocks_bought_second * price_second) / (stocks_bought_first + stocks_bought_second)\n",
    "print(f\"Average purchase price of John's Apple stocks: ${average_purchase_price:.2f}\")"
   ],
   "id": "c6120b0262418730",
   "outputs": [
    {
     "name": "stdout",
     "output_type": "stream",
     "text": [
      "Average purchase price of John's Apple stocks: $1248.33\n"
     ]
    }
   ],
   "execution_count": 8
  },
  {
   "metadata": {
    "ExecuteTime": {
     "end_time": "2025-08-27T19:17:46.005987Z",
     "start_time": "2025-08-27T19:17:46.002562Z"
    }
   },
   "cell_type": "code",
   "source": [
    "#Calculate and display the potential total capital gain if John sells all his Apple stocks now\n",
    "potential_total_capital_gain = total_value - (stocks_bought_first * price_first) - (stocks_bought_second * price_second)\n",
    "print(f\"Potential total capital gain: ${potential_total_capital_gain:.2f}\")"
   ],
   "id": "5fddccc1b00cdd22",
   "outputs": [
    {
     "name": "stdout",
     "output_type": "stream",
     "text": [
      "Potential total capital gain: $320.00\n"
     ]
    }
   ],
   "execution_count": 9
  },
  {
   "metadata": {
    "ExecuteTime": {
     "end_time": "2025-08-27T19:17:46.024003Z",
     "start_time": "2025-08-27T19:17:46.019438Z"
    }
   },
   "cell_type": "code",
   "source": [
    "#John holds dual citizenship in France and Belgium. In France, the tax rate on capital gains is 30%. In Belgium, capital gains are tax-exempt up to $500, and a 40% tax rate applies beyond this threshold. Calculate and display the taxes John would incur on his capital gains in France and Belgium\n",
    "tax_in_France = potential_total_capital_gain * France_tax_rate\n",
    "tax_belgium = max(0, (potential_total_capital_gain - tax_exempt_threshold) * Belgium_tax_rate)\n",
    "print(f\"Taxes in France: ${tax_in_France:.2f}\")\n",
    "print(f\"Taxes in Belgium: ${tax_belgium:.2f}\")"
   ],
   "id": "d27a0cf8c9fadd9e",
   "outputs": [
    {
     "name": "stdout",
     "output_type": "stream",
     "text": [
      "Taxes in France: $96.00\n",
      "Taxes in Belgium: $0.00\n"
     ]
    }
   ],
   "execution_count": 10
  },
  {
   "metadata": {},
   "cell_type": "markdown",
   "source": [
    "## ✅ Results:\n",
    "- Total value: $2970.00\n",
    "- Average purchase price: $1248.33\n",
    "- Capital gain: $320.00\n",
    "- France tax: $96.00\n",
    "- Belgium tax: $0.00\n"
   ],
   "id": "d263d30a36e5d0fb"
  },
  {
   "metadata": {
    "ExecuteTime": {
     "end_time": "2025-08-27T19:17:46.037640Z",
     "start_time": "2025-08-27T19:17:46.035714Z"
    }
   },
   "cell_type": "code",
   "source": "",
   "id": "3aed0aa1032cb02",
   "outputs": [],
   "execution_count": null
  }
 ],
 "metadata": {
  "kernelspec": {
   "display_name": "Python 3",
   "language": "python",
   "name": "python3"
  },
  "language_info": {
   "codemirror_mode": {
    "name": "ipython",
    "version": 2
   },
   "file_extension": ".py",
   "mimetype": "text/x-python",
   "name": "python",
   "nbconvert_exporter": "python",
   "pygments_lexer": "ipython2",
   "version": "2.7.6"
  }
 },
 "nbformat": 4,
 "nbformat_minor": 5
}
