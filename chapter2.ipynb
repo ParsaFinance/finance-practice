{
 "cells": [
  {
   "metadata": {},
   "cell_type": "markdown",
   "source": [
    "# Financial Simulation: How Long Will It Take to Reach Your Savings Goal?\n",
    "\n",
    "## Problem Statement\n",
    "\n",
    "Imagine you are planning to save for a specific financial goal, such as a down payment on a house, a new car, or a dream vacation. This program simulates your financial journey to estimate how long it will take to reach your target amount, considering that your income and expenses change over time.\n",
    "\n",
    "### Initial Variables (Inputs)\n",
    "\n",
    "The simulation starts with the following initial values:\n",
    "\n",
    "- `saving_goal`: The total amount of money you want to save (e.g., **$10,000**).\n",
    "- `monthly_income`: Your initial monthly income (e.g., **$1,000**).\n",
    "- `month_expenses`: Your initial monthly expenses (e.g., **$600**).\n",
    "- `expense_growth_rate`: The monthly rate at which your expenses increase (e.g., **3%** or `0.03`).\n",
    "- `month_of_raise`: The interval, in months, at which you receive a pay raise (e.g., every **6 months**).\n",
    "- `raise_amount`: The amount your monthly income increases by when you get a raise (e.g., **$300**).\n",
    "\n",
    "### Simulation Rules\n",
    "\n",
    "The simulation proceeds on a month-by-month basis, applying the following rules in each cycle:\n",
    "\n",
    "1.  **Calculate Monthly Savings**: The savings for the current month are calculated by subtracting expenses from income.\n",
    "2.  **Expense Growth**: At the end of each month, expenses are not static; they increase by the `expense_growth_rate`.\n",
    "3.  **Income Raise**: At specific intervals (e.g., every 6 months), the monthly income is increased by the `raise_amount`.\n",
    "4.  **Stopping Condition**: The simulation stops when the `total_saving` reaches or exceeds the `saving_goal`.\n",
    "\n",
    "### Final Objective\n",
    "\n",
    "The program's goal is to calculate and display the total time required, in **years** and **months**, to achieve the savings goal. It will also report the final amount saved upon completion."
   ],
   "id": "a43ea0fef5f3e3d8"
  },
  {
   "cell_type": "code",
   "id": "initial_id",
   "metadata": {
    "collapsed": true,
    "ExecuteTime": {
     "end_time": "2025-08-28T18:12:47.565824Z",
     "start_time": "2025-08-28T18:12:47.561359Z"
    }
   },
   "source": [
    "# how long does it take to reach your saving goal?\n",
    "\n",
    "# variables\n",
    "saving_goal = 10000\n",
    "monthly_income = 1000\n",
    "month_expenses = 600\n",
    "expense_growth_rate = 0.03\n",
    "month_of_raise = 6  # you recieve an income raise every 6 months\n",
    "raise_amount = 300\n",
    "\n",
    "\n",
    "# Initialize variables\n",
    "total_saving = 0\n",
    "months_required = 0\n",
    "max_months = 50 * 12  # Add a safeguard to prevent infinite loops (e.g., 50 years)\n",
    "\n",
    "# Loop until you reach the savings goal\n",
    "while total_saving < saving_goal:\n",
    "    # Check for the safeguard condition\n",
    "    if months_required > max_months:\n",
    "        print(\"Exceeded maximum simulation time. Goal not reached.\")\n",
    "        break\n",
    "\n",
    "    # Calculate savings for the current month\n",
    "    # It's important to check if you are losing money this month\n",
    "    monthly_saving = monthly_income - month_expenses\n",
    "    if monthly_saving <= 0 and total_saving < saving_goal:\n",
    "        print(f\"Warning: Negative savings in month {months_required + 1}. Goal may not be reachable.\")\n",
    "        # You could also break here if you want the simulation to stop\n",
    "        # break\n",
    "\n",
    "    total_saving += monthly_saving\n",
    "    months_required += 1\n",
    "\n",
    "    # --- Update income and expenses for the *next* month ---\n",
    "\n",
    "    # Expenses grow each month.\n",
    "    month_expenses *= (1 + expense_growth_rate)\n",
    "\n",
    "    # Check if it's time for a raise\n",
    "    if months_required % month_of_raise == 0:\n",
    "        monthly_income += raise_amount\n",
    "        print(f\"--- Month {months_required}: Income raised to ${monthly_income:,.2f}. ---\")\n",
    "\n",
    "# --- End of loop ---\n",
    "\n",
    "# Final report after the loop finishes\n",
    "print(\"\\n--- Simulation Complete ---\")\n",
    "if total_saving >= saving_goal:\n",
    "    years = months_required // 12\n",
    "    months = months_required % 12\n",
    "    print(f\"It will take {years} years and {months} months to reach your saving goal of ${saving_goal:,.2f}.\")\n",
    "    print(f\"Final Savings: ${total_saving:,.2f}\")\n",
    "else:\n",
    "    print(f\"Could not reach the saving goal of ${saving_goal:,.2f}.\")\n",
    "    print(f\"After {max_months // 12} years, your total savings would be ${total_saving:,.2f}.\")"
   ],
   "outputs": [
    {
     "name": "stdout",
     "output_type": "stream",
     "text": [
      "--- Month 6: Income raised to $1,300.00. ---\n",
      "--- Month 12: Income raised to $1,600.00. ---\n",
      "--- Month 18: Income raised to $1,900.00. ---\n",
      "\n",
      "--- Simulation Complete ---\n",
      "It will take 1 years and 7 months to reach your saving goal of $10,000.00.\n",
      "Final Savings: $10,229.88\n"
     ]
    }
   ],
   "execution_count": 6
  },
  {
   "metadata": {},
   "cell_type": "code",
   "outputs": [],
   "execution_count": null,
   "source": "",
   "id": "c7a92582f083ea4b"
  }
 ],
 "metadata": {
  "kernelspec": {
   "display_name": "Python 3",
   "language": "python",
   "name": "python3"
  },
  "language_info": {
   "codemirror_mode": {
    "name": "ipython",
    "version": 2
   },
   "file_extension": ".py",
   "mimetype": "text/x-python",
   "name": "python",
   "nbconvert_exporter": "python",
   "pygments_lexer": "ipython2",
   "version": "2.7.6"
  }
 },
 "nbformat": 4,
 "nbformat_minor": 5
}
